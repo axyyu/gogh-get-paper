{
 "cells": [
  {
   "cell_type": "code",
   "execution_count": 1,
   "metadata": {},
   "outputs": [],
   "source": [
    "from PIL import Image\n",
    "import numpy as np\n",
    "\n",
    "import cv2\n",
    "import pathlib\n",
    "from tqdm import tqdm\n",
    "import pickle\n",
    "from colorthief import ColorThief\n",
    "from matplotlib.pyplot import imshow"
   ]
  },
  {
   "cell_type": "code",
   "execution_count": 2,
   "metadata": {},
   "outputs": [],
   "source": [
    "root = pathlib.Path('/data1/Raw')\n",
    "out = pathlib.Path('/data2/ResizedImages/Depth9')"
   ]
  },
  {
   "cell_type": "code",
   "execution_count": 3,
   "metadata": {},
   "outputs": [
    {
     "name": "stdout",
     "output_type": "stream",
     "text": [
      "446054\n"
     ]
    }
   ],
   "source": [
    "all_images_paths = list(root.glob('**/*.jpg'))\n",
    "all_image_data = []\n",
    "wrong_sized_imgs = 0\n",
    "count = 0\n",
    "data_count = 0\n",
    "\n",
    "print(len(all_images_paths))"
   ]
  },
  {
   "cell_type": "code",
   "execution_count": 4,
   "metadata": {},
   "outputs": [
    {
     "name": "stdout",
     "output_type": "stream",
     "text": [
      "1024 1024\n"
     ]
    }
   ],
   "source": [
    "depth = 9\n",
    "size = 4*(2**(depth-1))\n",
    "FHD_WIDTH = size\n",
    "FHD_HEIGHT = size\n",
    "print(FHD_WIDTH, FHD_HEIGHT)\n",
    "\n",
    "def fill_background(img, dom_color):\n",
    "    width = img.shape[1]\n",
    "    height = img.shape[0]\n",
    "    \n",
    "    hmargin = int((FHD_WIDTH - width) / 2)\n",
    "    vmargin = int((FHD_HEIGHT - height) / 2)\n",
    "\n",
    "    output = cv2.copyMakeBorder(\n",
    "                 img, \n",
    "                 vmargin, \n",
    "                 vmargin, \n",
    "                 hmargin, \n",
    "                 hmargin, \n",
    "                 cv2.BORDER_CONSTANT, \n",
    "                 value=dom_color\n",
    "              )\n",
    "\n",
    "    return output\n",
    "\n",
    "def resize_image(img, w, h):\n",
    "    resized = cv2.resize(img, (int(w),int(h)))\n",
    "    return resized\n",
    "\n",
    "def fix_image_size(img, source):\n",
    "    width = img.shape[1]\n",
    "    height = img.shape[0]\n",
    "    \n",
    "    # too large/small\n",
    "    ratio1 = FHD_WIDTH/width\n",
    "    ratio2 = FHD_HEIGHT/height\n",
    "\n",
    "    ratio = min(ratio1, ratio2)\n",
    "\n",
    "    img = resize_image(img, ratio*width, ratio*height)\n",
    "    \n",
    "    if img.shape == (FHD_WIDTH, FHD_HEIGHT, 3):\n",
    "        return img\n",
    "    \n",
    "    dom_color = ColorThief(str(source)).get_color(quality=1)\n",
    "    img = fill_background(img, dom_color)\n",
    "    \n",
    "    if img.shape == (FHD_WIDTH, FHD_HEIGHT, 3):\n",
    "        return img\n",
    "    \n",
    "    return resize_image(img, FHD_WIDTH, FHD_HEIGHT)"
   ]
  },
  {
   "cell_type": "code",
   "execution_count": 5,
   "metadata": {},
   "outputs": [],
   "source": [
    "from multiprocessing import Pool\n",
    "from tqdm import *\n",
    "\n",
    "def worker(source):\n",
    "    try:\n",
    "        org_path = str(source).split('/')\n",
    "        out_path = pathlib.Path(out, org_path[-3] + org_path[-2] + org_path[-1])\n",
    "\n",
    "        if out_path.exists():\n",
    "            img = cv2.imread(str(out_path))\n",
    "\n",
    "            if img.shape == (FHD_WIDTH, FHD_HEIGHT, 3):\n",
    "                return\n",
    "\n",
    "        img = cv2.imread(str(source))\n",
    "        img = cv2.cvtColor(img, cv2.COLOR_BGR2RGB)\n",
    "\n",
    "        if img.shape != (FHD_WIDTH, FHD_HEIGHT, 3):\n",
    "            img = fix_image_size(img, source)\n",
    "\n",
    "        out_path.parent.mkdir(parents=True, exist_ok=True)\n",
    "        cv2.imwrite(str(out_path), img)\n",
    "    except Exception as e:\n",
    "        print('Error', source, e)"
   ]
  },
  {
   "cell_type": "code",
   "execution_count": 6,
   "metadata": {},
   "outputs": [
    {
     "name": "stderr",
     "output_type": "stream",
     "text": [
      "  0%|          | 1053/446054 [00:03<26:35, 278.89it/s] "
     ]
    },
    {
     "name": "stdout",
     "output_type": "stream",
     "text": [
      "Error /data1/Raw/WallpaperPlay/initial-d-wallpapers/84744.jpg OpenCV(4.3.0) /io/opencv/modules/imgproc/src/color.cpp:182: error: (-215:Assertion failed) !_src.empty() in function 'cvtColor'\n",
      "\n"
     ]
    },
    {
     "name": "stderr",
     "output_type": "stream",
     "text": [
      "  1%|          | 2506/446054 [00:09<24:55, 296.59it/s]"
     ]
    },
    {
     "name": "stdout",
     "output_type": "stream",
     "text": [
      "Error /data1/Raw/WallpaperPlay/blank-white-wallpapers/58065.jpg Empty pixels when quantize.\n"
     ]
    },
    {
     "name": "stderr",
     "output_type": "stream",
     "text": [
      "  5%|▍         | 21563/446054 [01:23<25:58, 272.44it/s]"
     ]
    },
    {
     "name": "stdout",
     "output_type": "stream",
     "text": [
      "Error /data1/Raw/WallpaperPlay/psychedelic-desktop-wallpapers/51504.jpg OpenCV(4.3.0) /io/opencv/modules/imgproc/src/color.cpp:182: error: (-215:Assertion failed) !_src.empty() in function 'cvtColor'\n",
      "\n"
     ]
    },
    {
     "name": "stderr",
     "output_type": "stream",
     "text": [
      " 14%|█▍        | 61658/446054 [04:04<27:35, 232.23it/s]  "
     ]
    },
    {
     "name": "stdout",
     "output_type": "stream",
     "text": [
      "Error /data1/Raw/WallpaperPlay/cave-wallpapers/173620.jpg OpenCV(4.3.0) /io/opencv/modules/imgproc/src/color.cpp:182: error: (-215:Assertion failed) !_src.empty() in function 'cvtColor'\n",
      "\n"
     ]
    },
    {
     "name": "stderr",
     "output_type": "stream",
     "text": [
      " 25%|██▍       | 110250/446054 [07:15<18:57, 295.23it/s]"
     ]
    },
    {
     "name": "stdout",
     "output_type": "stream",
     "text": [
      "Error /data1/Raw/WallpaperPlay/wolves-howling-wallpapers/201183.jpg OpenCV(4.3.0) /io/opencv/modules/imgproc/src/color.cpp:182: error: (-215:Assertion failed) !_src.empty() in function 'cvtColor'\n",
      "\n"
     ]
    },
    {
     "name": "stderr",
     "output_type": "stream",
     "text": [
      " 26%|██▋       | 117900/446054 [07:45<22:27, 243.51it/s]"
     ]
    },
    {
     "name": "stdout",
     "output_type": "stream",
     "text": [
      "Error /data1/Raw/WallpaperPlay/theocratic-wallpapers/122242.jpg Empty pixels when quantize.\n"
     ]
    },
    {
     "name": "stderr",
     "output_type": "stream",
     "text": [
      " 27%|██▋       | 122507/446054 [08:03<17:37, 305.87it/s]"
     ]
    },
    {
     "name": "stdout",
     "output_type": "stream",
     "text": [
      "Error /data1/Raw/WallpaperPlay/pure-white-wallpapers/145631.jpg Empty pixels when quantize.\n"
     ]
    },
    {
     "name": "stderr",
     "output_type": "stream",
     "text": [
      " 35%|███▌      | 156199/446054 [10:11<17:22, 278.10it/s]"
     ]
    },
    {
     "name": "stdout",
     "output_type": "stream",
     "text": [
      "Error /data1/Raw/WallpaperPlay/wwe-nwo-wallpapers/149720.jpg Empty pixels when quantize.\n"
     ]
    },
    {
     "name": "stderr",
     "output_type": "stream",
     "text": [
      " 48%|████▊     | 212924/446054 [13:57<16:39, 233.26it/s]"
     ]
    },
    {
     "name": "stdout",
     "output_type": "stream",
     "text": [
      "Error /data1/Raw/WallpaperAccess/hawaii-beach-desktop/166544.jpg OpenCV(4.3.0) /io/opencv/modules/imgproc/src/color.cpp:182: error: (-215:Assertion failed) !_src.empty() in function 'cvtColor'\n",
      "\n"
     ]
    },
    {
     "name": "stderr",
     "output_type": "stream",
     "text": [
      " 49%|████▉     | 217588/446054 [14:16<14:45, 258.10it/s]"
     ]
    },
    {
     "name": "stdout",
     "output_type": "stream",
     "text": [
      "Error /data1/Raw/WallpaperAccess/white-pc/1668988.jpg Empty pixels when quantize.\n"
     ]
    },
    {
     "name": "stderr",
     "output_type": "stream",
     "text": [
      " 55%|█████▍    | 243804/446054 [16:03<11:40, 288.77it/s]"
     ]
    },
    {
     "name": "stdout",
     "output_type": "stream",
     "text": [
      "Error /data1/Raw/WallpaperAccess/white-iphone/1311948.jpg"
     ]
    },
    {
     "name": "stderr",
     "output_type": "stream",
     "text": [
      "\r",
      " 55%|█████▍    | 243835/446054 [16:03<17:45, 189.80it/s]"
     ]
    },
    {
     "name": "stdout",
     "output_type": "stream",
     "text": [
      " Empty pixels when quantize.\n"
     ]
    },
    {
     "name": "stderr",
     "output_type": "stream",
     "text": [
      " 60%|█████▉    | 265872/446054 [1:36:38<113:25:38,  2.27s/it]/home/andrew/anaconda3/envs/gogh-get-money/lib/python3.7/site-packages/PIL/Image.py:2835: DecompressionBombWarning: Image size (132710400 pixels) exceeds limit of 89478485 pixels, could be decompression bomb DOS attack.\n",
      "  DecompressionBombWarning,\n",
      " 61%|██████▏   | 273300/446054 [4:29:26<58:18:25,  1.22s/it]  /home/andrew/anaconda3/envs/gogh-get-money/lib/python3.7/site-packages/PIL/Image.py:2835: DecompressionBombWarning: Image size (90000000 pixels) exceeds limit of 89478485 pixels, could be decompression bomb DOS attack.\n",
      "  DecompressionBombWarning,\n",
      " 63%|██████▎   | 282238/446054 [7:39:39<48:13:37,  1.06s/it] "
     ]
    },
    {
     "name": "stdout",
     "output_type": "stream",
     "text": [
      "Error /data1/Raw/WallpaperAccess/new-york-times-square-christmas-tree/643924.jpg image file is truncated (3 bytes not processed)\n"
     ]
    },
    {
     "name": "stderr",
     "output_type": "stream",
     "text": [
      " 64%|██████▍   | 287389/446054 [9:31:05<66:46:45,  1.52s/it]  "
     ]
    },
    {
     "name": "stdout",
     "output_type": "stream",
     "text": [
      "Error /data1/Raw/WallpaperAccess/solid-grey/1248737.jpg Empty pixels when quantize.\n"
     ]
    },
    {
     "name": "stderr",
     "output_type": "stream",
     "text": [
      " 66%|██████▋   | 295667/446054 [12:35:40<48:25:30,  1.16s/it] /home/andrew/anaconda3/envs/gogh-get-money/lib/python3.7/site-packages/PIL/Image.py:2835: DecompressionBombWarning: Image size (132710400 pixels) exceeds limit of 89478485 pixels, could be decompression bomb DOS attack.\n",
      "  DecompressionBombWarning,\n",
      " 69%|██████▊   | 306381/446054 [16:16:03<63:41:07,  1.64s/it] /home/andrew/anaconda3/envs/gogh-get-money/lib/python3.7/site-packages/PIL/Image.py:2835: DecompressionBombWarning: Image size (134217728 pixels) exceeds limit of 89478485 pixels, could be decompression bomb DOS attack.\n",
      "  DecompressionBombWarning,\n",
      " 69%|██████▊   | 306394/446054 [16:16:48<104:59:23,  2.71s/it]/home/andrew/anaconda3/envs/gogh-get-money/lib/python3.7/site-packages/PIL/Image.py:2835: DecompressionBombWarning: Image size (132710400 pixels) exceeds limit of 89478485 pixels, could be decompression bomb DOS attack.\n",
      "  DecompressionBombWarning,\n",
      " 69%|██████▉   | 308699/446054 [17:03:34<54:28:48,  1.43s/it] "
     ]
    },
    {
     "name": "stdout",
     "output_type": "stream",
     "text": [
      "Error /data1/Raw/WallpaperAccess/solid-iphone/1248737.jpg Empty pixels when quantize.\n"
     ]
    },
    {
     "name": "stderr",
     "output_type": "stream",
     "text": [
      " 70%|██████▉   | 310531/446054 [17:41:03<129:24:37,  3.44s/it]/home/andrew/anaconda3/envs/gogh-get-money/lib/python3.7/site-packages/PIL/Image.py:2835: DecompressionBombWarning: Image size (107337660 pixels) exceeds limit of 89478485 pixels, could be decompression bomb DOS attack.\n",
      "  DecompressionBombWarning,\n",
      " 70%|██████▉   | 310539/446054 [17:41:26<110:37:06,  2.94s/it]/home/andrew/anaconda3/envs/gogh-get-money/lib/python3.7/site-packages/PIL/Image.py:2835: DecompressionBombWarning: Image size (120999252 pixels) exceeds limit of 89478485 pixels, could be decompression bomb DOS attack.\n",
      "  DecompressionBombWarning,\n",
      " 71%|███████   | 316688/446054 [20:06:19<33:29:59,  1.07it/s] "
     ]
    },
    {
     "name": "stdout",
     "output_type": "stream",
     "text": [
      "Error /data1/Raw/WallpaperAccess/time/248455.jpg Image size (255996000 pixels) exceeds limit of 178956970 pixels, could be decompression bomb DOS attack.\n"
     ]
    },
    {
     "name": "stderr",
     "output_type": "stream",
     "text": [
      " 71%|███████   | 316845/446054 [20:09:31<24:39:31,  1.46it/s]"
     ]
    },
    {
     "name": "stdout",
     "output_type": "stream",
     "text": [
      "Error /data1/Raw/WallpaperAccess/solid-white/1668893.jpg Empty pixels when quantize.\n"
     ]
    },
    {
     "name": "stderr",
     "output_type": "stream",
     "text": [
      " 71%|███████   | 316857/446054 [20:09:38<25:59:54,  1.38it/s]"
     ]
    },
    {
     "name": "stdout",
     "output_type": "stream",
     "text": [
      "Error /data1/Raw/WallpaperAccess/solid-white/876598.jpg Empty pixels when quantize.\n"
     ]
    },
    {
     "name": "stderr",
     "output_type": "stream",
     "text": [
      " 71%|███████   | 316859/446054 [20:09:38<15:57:32,  2.25it/s]"
     ]
    },
    {
     "name": "stdout",
     "output_type": "stream",
     "text": [
      "Error /data1/Raw/WallpaperAccess/solid-white/1754609.jpg Empty pixels when quantize.\n"
     ]
    },
    {
     "name": "stderr",
     "output_type": "stream",
     "text": [
      " 71%|███████   | 316862/446054 [20:09:39<9:28:34,  3.79it/s] "
     ]
    },
    {
     "name": "stdout",
     "output_type": "stream",
     "text": [
      "Error /data1/Raw/WallpaperAccess/solid-white/1754611.jpg Empty pixels when quantize.\n"
     ]
    },
    {
     "name": "stderr",
     "output_type": "stream",
     "text": [
      " 71%|███████   | 317507/446054 [20:22:13<37:31:38,  1.05s/it] "
     ]
    },
    {
     "name": "stdout",
     "output_type": "stream",
     "text": [
      "Error /data1/Raw/WallpaperAccess/awesome-tiger/1167775.jpg image file is truncated (0 bytes not processed)\n"
     ]
    },
    {
     "name": "stderr",
     "output_type": "stream",
     "text": [
      " 73%|███████▎  | 324038/446054 [22:42:56<64:39:07,  1.91s/it] /home/andrew/anaconda3/envs/gogh-get-money/lib/python3.7/site-packages/PIL/Image.py:2835: DecompressionBombWarning: Image size (97118000 pixels) exceeds limit of 89478485 pixels, could be decompression bomb DOS attack.\n",
      "  DecompressionBombWarning,\n",
      " 74%|███████▎  | 328670/446054 [24:22:22<71:02:43,  2.18s/it] /home/andrew/anaconda3/envs/gogh-get-money/lib/python3.7/site-packages/PIL/Image.py:2835: DecompressionBombWarning: Image size (144400000 pixels) exceeds limit of 89478485 pixels, could be decompression bomb DOS attack.\n",
      "  DecompressionBombWarning,\n",
      " 74%|███████▍  | 329583/446054 [24:49:56<80:25:47,  2.49s/it] "
     ]
    },
    {
     "name": "stdout",
     "output_type": "stream",
     "text": [
      "Error /data1/Raw/WallpaperAccess/san-francisco-4k/258080.jpg image file is truncated (2 bytes not processed)\n"
     ]
    },
    {
     "name": "stderr",
     "output_type": "stream",
     "text": [
      " 75%|███████▍  | 334064/446054 [26:24:37<36:24:43,  1.17s/it] "
     ]
    },
    {
     "name": "stdout",
     "output_type": "stream",
     "text": [
      "Error /data1/Raw/WallpaperAccess/nvidia/1078017.jpg image file is truncated (1 bytes not processed)\n"
     ]
    },
    {
     "name": "stderr",
     "output_type": "stream",
     "text": [
      " 76%|███████▌  | 339431/446054 [28:27:12<111:36:57,  3.77s/it]/home/andrew/anaconda3/envs/gogh-get-money/lib/python3.7/site-packages/PIL/Image.py:2835: DecompressionBombWarning: Image size (119957256 pixels) exceeds limit of 89478485 pixels, could be decompression bomb DOS attack.\n",
      "  DecompressionBombWarning,\n",
      " 77%|███████▋  | 343647/446054 [30:00:57<29:22:04,  1.03s/it] "
     ]
    },
    {
     "name": "stdout",
     "output_type": "stream",
     "text": [
      "Error /data1/Raw/WallpaperAccess/abstract-flower/543718.jpg image file is truncated (2 bytes not processed)\n"
     ]
    },
    {
     "name": "stderr",
     "output_type": "stream",
     "text": [
      " 81%|████████  | 359080/446054 [35:34:21<33:19:34,  1.38s/it] /home/andrew/anaconda3/envs/gogh-get-money/lib/python3.7/site-packages/PIL/Image.py:2835: DecompressionBombWarning: Image size (90000000 pixels) exceeds limit of 89478485 pixels, could be decompression bomb DOS attack.\n",
      "  DecompressionBombWarning,\n",
      " 81%|████████  | 360263/446054 [35:58:55<111:00:41,  4.66s/it]/home/andrew/anaconda3/envs/gogh-get-money/lib/python3.7/site-packages/PIL/Image.py:2835: DecompressionBombWarning: Image size (90000000 pixels) exceeds limit of 89478485 pixels, could be decompression bomb DOS attack.\n",
      "  DecompressionBombWarning,\n",
      " 81%|████████▏ | 362545/446054 [36:43:23<33:17:57,  1.44s/it] "
     ]
    },
    {
     "name": "stdout",
     "output_type": "stream",
     "text": [
      "Error /data1/Raw/WallpaperAccess/white-paper/1754609.jpg Empty pixels when quantize.\n"
     ]
    },
    {
     "name": "stderr",
     "output_type": "stream",
     "text": [
      " 82%|████████▏ | 364587/446054 [37:22:27<54:32:22,  2.41s/it] /home/andrew/anaconda3/envs/gogh-get-money/lib/python3.7/site-packages/PIL/Image.py:2835: DecompressionBombWarning: Image size (134217728 pixels) exceeds limit of 89478485 pixels, could be decompression bomb DOS attack.\n",
      "  DecompressionBombWarning,\n",
      " 82%|████████▏ | 364763/446054 [37:34:28<198:43:56,  8.80s/it]"
     ]
    },
    {
     "name": "stdout",
     "output_type": "stream",
     "text": [
      "Error /data1/Raw/WallpaperAccess/8k-ultra-gaming/1833107.jpg Image size (360180000 pixels) exceeds limit of 178956970 pixels, could be decompression bomb DOS attack.\n"
     ]
    },
    {
     "name": "stderr",
     "output_type": "stream",
     "text": [
      " 82%|████████▏ | 365713/446054 [37:57:58<36:42:45,  1.65s/it] /home/andrew/anaconda3/envs/gogh-get-money/lib/python3.7/site-packages/PIL/TiffImagePlugin.py:785: UserWarning: Corrupt EXIF data.  Expecting to read 4 bytes but only got 0. \n",
      "  warnings.warn(str(msg))\n",
      " 82%|████████▏ | 366621/446054 [38:20:02<57:30:12,  2.61s/it] /home/andrew/anaconda3/envs/gogh-get-money/lib/python3.7/site-packages/PIL/Image.py:2835: DecompressionBombWarning: Image size (132710400 pixels) exceeds limit of 89478485 pixels, could be decompression bomb DOS attack.\n",
      "  DecompressionBombWarning,\n",
      " 85%|████████▍ | 377320/446054 [42:03:17<16:05:42,  1.19it/s] "
     ]
    },
    {
     "name": "stdout",
     "output_type": "stream",
     "text": [
      "Error /data1/Raw/WallpaperAccess/pattern-floral/1742264.jpg OpenCV(4.3.0) /io/opencv/modules/imgproc/src/color.cpp:182: error: (-215:Assertion failed) !_src.empty() in function 'cvtColor'\n",
      "\n"
     ]
    },
    {
     "name": "stderr",
     "output_type": "stream",
     "text": [
      " 88%|████████▊ | 392807/446054 [47:26:01<13:41:23,  1.08it/s] /home/andrew/anaconda3/envs/gogh-get-money/lib/python3.7/site-packages/PIL/Image.py:2835: DecompressionBombWarning: Image size (107952000 pixels) exceeds limit of 89478485 pixels, could be decompression bomb DOS attack.\n",
      "  DecompressionBombWarning,\n",
      " 89%|████████▊ | 395565/446054 [48:30:02<24:50:52,  1.77s/it] /home/andrew/anaconda3/envs/gogh-get-money/lib/python3.7/site-packages/PIL/Image.py:2835: DecompressionBombWarning: Image size (97118000 pixels) exceeds limit of 89478485 pixels, could be decompression bomb DOS attack.\n",
      "  DecompressionBombWarning,\n",
      " 91%|█████████ | 404851/446054 [51:51:00<10:18:48,  1.11it/s] /home/andrew/anaconda3/envs/gogh-get-money/lib/python3.7/site-packages/PIL/Image.py:2835: DecompressionBombWarning: Image size (126786888 pixels) exceeds limit of 89478485 pixels, could be decompression bomb DOS attack.\n",
      "  DecompressionBombWarning,\n",
      " 92%|█████████▏| 411264/446054 [54:25:54<95:22:18,  9.87s/it] /home/andrew/anaconda3/envs/gogh-get-money/lib/python3.7/site-packages/PIL/Image.py:2835: DecompressionBombWarning: Image size (144400000 pixels) exceeds limit of 89478485 pixels, could be decompression bomb DOS attack.\n",
      "  DecompressionBombWarning,\n",
      " 94%|█████████▍| 419893/446054 [57:37:07<5:24:59,  1.34it/s]  "
     ]
    },
    {
     "name": "stdout",
     "output_type": "stream",
     "text": [
      "Error /data1/Raw/WallpaperAccess/solid-color-iphone/1248737.jpg Empty pixels when quantize.\n"
     ]
    },
    {
     "name": "stderr",
     "output_type": "stream",
     "text": [
      " 96%|█████████▌| 428837/446054 [60:48:16<3:02:34,  1.57it/s] /home/andrew/anaconda3/envs/gogh-get-money/lib/python3.7/site-packages/PIL/Image.py:2835: DecompressionBombWarning: Image size (162000000 pixels) exceeds limit of 89478485 pixels, could be decompression bomb DOS attack.\n",
      "  DecompressionBombWarning,\n",
      " 98%|█████████▊| 436289/446054 [63:35:39<44:44,  3.64it/s]   "
     ]
    },
    {
     "name": "stdout",
     "output_type": "stream",
     "text": [
      "Error /data1/Raw/WallpaperAccess/plain-white/2077889.jpg Empty pixels when quantize.\n"
     ]
    },
    {
     "name": "stderr",
     "output_type": "stream",
     "text": [
      " 98%|█████████▊| 436689/446054 [63:45:02<17:42:24,  6.81s/it]/home/andrew/anaconda3/envs/gogh-get-money/lib/python3.7/site-packages/PIL/Image.py:2835: DecompressionBombWarning: Image size (144400000 pixels) exceeds limit of 89478485 pixels, could be decompression bomb DOS attack.\n",
      "  DecompressionBombWarning,\n",
      "100%|██████████| 446054/446054 [67:14:51<00:00,  1.30it/s]   "
     ]
    }
   ],
   "source": [
    "p = Pool(7)\n",
    "\n",
    "pbar = tqdm(total=len(all_images_paths))\n",
    "for i, _ in enumerate(p.imap_unordered(worker, all_images_paths)):\n",
    "    pbar.update()"
   ]
  },
  {
   "cell_type": "code",
   "execution_count": null,
   "metadata": {},
   "outputs": [],
   "source": [
    "p.close()\n",
    "p.terminate()"
   ]
  }
 ],
 "metadata": {
  "kernelspec": {
   "display_name": "Python 3",
   "language": "python",
   "name": "python3"
  },
  "language_info": {
   "codemirror_mode": {
    "name": "ipython",
    "version": 3
   },
   "file_extension": ".py",
   "mimetype": "text/x-python",
   "name": "python",
   "nbconvert_exporter": "python",
   "pygments_lexer": "ipython3",
   "version": "3.7.7"
  }
 },
 "nbformat": 4,
 "nbformat_minor": 4
}
